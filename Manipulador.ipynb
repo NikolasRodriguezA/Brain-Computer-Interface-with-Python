{
 "nbformat": 4,
 "nbformat_minor": 2,
 "metadata": {
  "language_info": {
   "name": "python",
   "codemirror_mode": {
    "name": "ipython",
    "version": 3
   },
   "version": "3.7.4-final"
  },
  "orig_nbformat": 2,
  "file_extension": ".py",
  "mimetype": "text/x-python",
  "name": "python",
  "npconvert_exporter": "python",
  "pygments_lexer": "ipython3",
  "version": 3,
  "kernelspec": {
   "name": "python37464bitbaseconda7216076610954b268200df1d36d6ca09",
   "display_name": "Python 3.7.4 64-bit ('base': conda)"
  }
 },
 "cells": [
  {
   "cell_type": "code",
   "execution_count": 193,
   "metadata": {},
   "outputs": [],
   "source": [
    "# Librerias.\n",
    "import serial\n",
    "import time "
   ]
  },
  {
   "cell_type": "markdown",
   "metadata": {},
   "source": [
    "### Funciones para entablar la comunicación serial con el manipulador RV-M1.\n",
    "* Importante, Verficar los dip switch del manipulador RV-M1, para configurar la tasa de Baudios, Bits de datos, Paridad y Bit de Parada.  "
   ]
  },
  {
   "cell_type": "code",
   "execution_count": 194,
   "metadata": {},
   "outputs": [],
   "source": [
    "\n",
    "def iniciar_comunicacion():\n",
    "    try:\n",
    "        ser=serial.Serial(\n",
    "            port = \"COM7\", \n",
    "            baudrate = 4800,\n",
    "            bytesize = serial.SEVENBITS,\n",
    "            parity = serial.PARITY_EVEN,\n",
    "            stopbits = serial.STOPBITS_ONE,\n",
    "            rtscts=True,\n",
    "            dsrdtr=True,\n",
    "            )\n",
    "        if ser.isOpen():\n",
    "            ser.flushInput()    ## vacia bufer entrada\n",
    "            ser.flushOutput()   ##vacia bufer salida\n",
    "        return ser\n",
    "    except serial.SerialException:\n",
    "            result = messagebox.showerror(\"Error al establecer conexión:\",message=\"-Compruebe que el Manipulador RV-M1 está correctamente conectado al puerto\")\n",
    "    return 0\n",
    "def finalizar_comunicacion_simple(ser):\n",
    "    while True :\n",
    "        estado=ser.getCTS()\n",
    "        if estado == True:\n",
    "            break;\n",
    "    if ser.isOpen():\n",
    "        ser.close() \n"
   ]
  },
  {
   "cell_type": "markdown",
   "metadata": {},
   "source": [
    "#### Fragmentos de código para enviar comandos al manipulador, "
   ]
  },
  {
   "cell_type": "code",
   "execution_count": 119,
   "metadata": {},
   "outputs": [],
   "source": [
    "ser=iniciar_comunicacion()\n",
    "ser.write(b'\\rNT\\r')\n",
    "finalizar_comunicacion_simple(ser)"
   ]
  },
  {
   "cell_type": "code",
   "execution_count": 200,
   "metadata": {},
   "outputs": [],
   "source": [
    "ser=iniciar_comunicacion()\n",
    "ser.write(b'\\rOG\\r')\n",
    "finalizar_comunicacion_simple(ser)"
   ]
  },
  {
   "cell_type": "code",
   "execution_count": 165,
   "metadata": {},
   "outputs": [],
   "source": [
    "ser=iniciar_comunicacion()\n",
    "ser.write(b'\\rMJ 0,-24,0,79,120\\r') \n",
    "finalizar_comunicacion_simple(ser)"
   ]
  }
 ]
}